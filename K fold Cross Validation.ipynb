{
 "cells": [
  {
   "cell_type": "markdown",
   "metadata": {},
   "source": [
    "# K Fold Cross validation\n",
    "\n",
    "* Cross-validation is a resampling procedure used to evaluate machine learning models on a limited data sample.The procedure has a single parameter called k that refers to the number of groups that a given data sample is to be split into. As such, the procedure is often called k-fold cross-validation. When a specific value for k is chosen, it may be used in place of k in the reference to the model, such as k=10 becoming 10-fold cross-validation."
   ]
  },
  {
   "cell_type": "code",
   "execution_count": null,
   "metadata": {},
   "outputs": [],
   "source": [
    "#importing libraries \n",
    "#pandas for loading data and manipulation\n",
    "#numpy for working with multidimensional arrays and matrices\n",
    "#searborn and matplotlib is used for data visualization\n",
    "#sklearn is machine learning library where all the methods related to ML algorithms can be imported\n",
    "#Metrics is used to measure accuracy score\n",
    "\n",
    "import pandas as pd\n",
    "import numpy as np\n",
    "import matplotlib.pyplot as plt\n",
    "from sklearn import cross_validation\n",
    "from sklearn.model_selection import cross_validate,train_test_split\n",
    "from sklearn import datasets\n",
    "from sklearn import metrics\n",
    "from sklearn.linear_model import LinearRegression\n",
    "\n",
    "diabetes = datasets.load_diabetes() #Loading diabetes dataset \n",
    "#df1=pd.DataFrame(diabetes.data)\n",
    "#df2=pd.DataFrame(diabetes.target)\n",
    "\n",
    "#x=df1.values.reshape(-1,1)\n",
    "#y=df2.values.reshape(-1,1)\n",
    "\n",
    "#Splitting the dataset into Train and Test with 80% data into training set and 20% data into testing set randomly\n",
    "X_train, X_test,y_train,y_test=train_test_split(diabetes.data,diabetes.target,test_size=0.2,random_state=0)\n",
    "\n",
    "#Calling constructor linearRegression\n",
    "model=LinearRegression()\n",
    "\n",
    "#Trying to fit the data\n",
    "model.fit(X_train,y_train)\n",
    "\n",
    "#This gives the predicted value\n",
    "y_pred=model.predict(X_test)\n",
    "\n",
    "#Printing the accuray score for our linear regression model on diabetes dataset\n",
    "print(\"Accuracy:\",model.score(X_test, y_test))\n"
   ]
  },
  {
   "cell_type": "markdown",
   "metadata": {},
   "source": [
    "* Linear regression gave the accuracy of 33% which is not very good.We can improve our accuracy by using k fold cross validation"
   ]
  },
  {
   "cell_type": "code",
   "execution_count": null,
   "metadata": {},
   "outputs": [],
   "source": [
    "\n",
    "from sklearn import metrics\n",
    "\n",
    "# Perform 6-fold cross validation\n",
    "scores = cross_validate(model.fit(X_train,y_train),diabetes.data,diabetes.target, cv=4)\n",
    "print (\"Cross-validated scores:\", scores)"
   ]
  },
  {
   "cell_type": "markdown",
   "metadata": {},
   "source": [
    "* we made our dataset spilt into 3 training,1 testing set. we can as the k increases that is as no of validation increases the accuracy also increases "
   ]
  },
  {
   "cell_type": "code",
   "execution_count": null,
   "metadata": {},
   "outputs": [],
   "source": []
  }
 ],
 "metadata": {
  "kernelspec": {
   "display_name": "Python 3",
   "language": "python",
   "name": "python3"
  },
  "language_info": {
   "codemirror_mode": {
    "name": "ipython",
    "version": 3
   },
   "file_extension": ".py",
   "mimetype": "text/x-python",
   "name": "python",
   "nbconvert_exporter": "python",
   "pygments_lexer": "ipython3",
   "version": "3.7.0"
  }
 },
 "nbformat": 4,
 "nbformat_minor": 2
}
