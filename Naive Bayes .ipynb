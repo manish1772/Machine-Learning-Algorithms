{
 "cells": [
  {
   "cell_type": "markdown",
   "metadata": {},
   "source": [
    "# Naive Bayes\n",
    "* Naive bayes which is extremely fast relatuve to other classification algorithms\n",
    "* it works on bayes theorem probability to predict the class of unknown data set\n",
    "* Naive bayes is a classification algorithm for binary and multi class classification problems "
   ]
  },
  {
   "cell_type": "code",
   "execution_count": 5,
   "metadata": {},
   "outputs": [
    {
     "name": "stdout",
     "output_type": "stream",
     "text": [
      "Accuracy: 0.9074074074074074\n"
     ]
    }
   ],
   "source": [
    "#importing libraries \n",
    "#pandas for loading data and manipulation\n",
    "#numpy for working with multidimensional arrays and matrices\n",
    "#searborn and matplotlib is used for data visualization\n",
    "#sklearn is machine learning library where all the methods related to ML algorithms can be imported\n",
    "\n",
    "from sklearn import datasets\n",
    "from sklearn.model_selection import cross_validate,train_test_split\n",
    "from sklearn.naive_bayes import GaussianNB\n",
    "from sklearn import metrics #importing performance measure metrics \n",
    "\n",
    "wine = datasets.load_wine() #Loading wine dataset\n",
    "\n",
    "#Splitting training and testing data with 70% into training set and 30% with test data\n",
    "X_train, X_test, y_train, y_test = train_test_split(wine.data, wine.target, test_size=0.3,random_state=109)\n",
    "\n",
    "#calling gaussian naive bayes classifier\n",
    "g_model=GaussianNB()\n",
    "\n",
    "#Fitting the data\n",
    "model=g_model.fit(X_train,y_train)\n",
    "\n",
    "#predicting the new value \n",
    "y_pred=g_model.predict(X_test)\n",
    "\n",
    "#checking the accuracy with predicted value and test value\n",
    "print(\"Accuracy:\",metrics.accuracy_score(y_test, y_pred))\n",
    "\n"
   ]
  },
  {
   "cell_type": "code",
   "execution_count": 7,
   "metadata": {},
   "outputs": [
    {
     "name": "stdout",
     "output_type": "stream",
     "text": [
      "Cross-validated scores: [0.89473684 1.         1.        ]\n"
     ]
    }
   ],
   "source": [
    "\n",
    "# Perform 3-fold cross validation\n",
    "scores = cross_val_score(model,X_test,y_test, cv=3)\n",
    "print (\"Cross-validated scores:\", scores)"
   ]
  },
  {
   "cell_type": "markdown",
   "metadata": {},
   "source": [
    "* We can see that the accuracy attained by this classifier is 90% which is max.Though you perform k fold cross validations you cannot see any changes."
   ]
  },
  {
   "cell_type": "code",
   "execution_count": null,
   "metadata": {},
   "outputs": [],
   "source": []
  }
 ],
 "metadata": {
  "kernelspec": {
   "display_name": "Python 3",
   "language": "python",
   "name": "python3"
  },
  "language_info": {
   "codemirror_mode": {
    "name": "ipython",
    "version": 3
   },
   "file_extension": ".py",
   "mimetype": "text/x-python",
   "name": "python",
   "nbconvert_exporter": "python",
   "pygments_lexer": "ipython3",
   "version": "3.7.0"
  }
 },
 "nbformat": 4,
 "nbformat_minor": 2
}
